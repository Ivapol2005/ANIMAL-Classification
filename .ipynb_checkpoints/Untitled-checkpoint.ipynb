{
 "cells": [
  {
   "cell_type": "code",
   "execution_count": 1,
   "id": "dee97da9",
   "metadata": {},
   "outputs": [],
   "source": [
    "breeds = {\n",
    "    1: \"Abyssinian\",\n",
    "    2: \"American_Bulldog\",\n",
    "    3: \"American_Pit_Bull_Terrier\",\n",
    "    4: \"Basset_Hound\",\n",
    "    5: \"Beagle\",\n",
    "    6: \"Bengal\",\n",
    "    7: \"Birman\",\n",
    "    8: \"Bombay\",\n",
    "    9: \"Boxer\",\n",
    "    10: \"British_Shorthair\",\n",
    "    11: \"Chihuahua\",\n",
    "    12: \"Egyptian_Mau\",\n",
    "    13: \"English_Cocker_Spaniel\",\n",
    "    14: \"English_Setter\",\n",
    "    15: \"German_Shorthaired\",\n",
    "    16: \"Great_Pyrenees\",\n",
    "    17: \"Havanese\",\n",
    "    18: \"Japanese_Chin\",\n",
    "    19: \"Keeshond\",\n",
    "    20: \"Leonberger\",\n",
    "    21: \"Maine_Coon\",\n",
    "    22: \"Miniature_Pinscher\",\n",
    "    23: \"Newfoundland\",\n",
    "    24: \"Persian\",\n",
    "    25: \"Pomeranian\",\n",
    "    26: \"Pug\",\n",
    "    27: \"Ragdoll\",\n",
    "    28: \"Russian_Blue\",\n",
    "    29: \"Saint_Bernard\",\n",
    "    30: \"Samoyed\",\n",
    "    31: \"Scottish_Terrier\",\n",
    "    32: \"Shiba_Inu\",\n",
    "    33: \"Siamese\",\n",
    "    34: \"Sphynx\",\n",
    "    35: \"Staffordshire_Bull_Terrier\",\n",
    "    36: \"Wheaten_Terrier\",\n",
    "    37: \"Yorkshire_Terrier\"\n",
    "}\n",
    "\n"
   ]
  },
  {
   "cell_type": "code",
   "execution_count": 2,
   "id": "611397d7",
   "metadata": {},
   "outputs": [
    {
     "name": "stdout",
     "output_type": "stream",
     "text": [
      "Enter a sentence: ragdoll\n",
      "Detected breeds (including possible corrections):\n",
      "- Ragdoll\n",
      "- ragdoll\n"
     ]
    }
   ],
   "source": [
    "from spacy.matcher import Matcher\n",
    "import spacy\n",
    "from thefuzz import process  # Fuzzy matching for mistakes correction\n",
    "\n",
    "# model spaCy\n",
    "nlp = spacy.load(\"en_core_web_sm\")\n",
    "matcher = Matcher(nlp.vocab)\n",
    "\n",
    "patterns = [[{\"LOWER\": breed.lower()}] for breed in breeds.values()]\n",
    "matcher.add(\"BREED\", patterns)\n",
    "\n",
    "text = input(\"Enter a sentence: \")\n",
    "\n",
    "doc = nlp(text)\n",
    "matches = matcher(doc)\n",
    "\n",
    "detected_breeds = [doc[start:end].text for match_id, start, end in matches]\n",
    "\n",
    "corrected_breeds = []\n",
    "for word in doc:\n",
    "    match, score = process.extractOne(word.text, list(breeds.values()))\n",
    "    if score > 85:\n",
    "        corrected_breeds.append(match)\n",
    "\n",
    "if detected_breeds or corrected_breeds:\n",
    "    print(\"Detected breeds (including possible corrections):\")\n",
    "    for breed in set(detected_breeds + corrected_breeds):\n",
    "        print(\"-\", breed)\n",
    "else:\n",
    "    print(\"No breeds found in the text.\")\n"
   ]
  },
  {
   "cell_type": "code",
   "execution_count": null,
   "id": "d20f6c96",
   "metadata": {},
   "outputs": [],
   "source": []
  }
 ],
 "metadata": {
  "kernelspec": {
   "display_name": "Python 3 (ipykernel)",
   "language": "python",
   "name": "python3"
  },
  "language_info": {
   "codemirror_mode": {
    "name": "ipython",
    "version": 3
   },
   "file_extension": ".py",
   "mimetype": "text/x-python",
   "name": "python",
   "nbconvert_exporter": "python",
   "pygments_lexer": "ipython3",
   "version": "3.11.2"
  }
 },
 "nbformat": 4,
 "nbformat_minor": 5
}
